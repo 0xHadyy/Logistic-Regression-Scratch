{
 "cells": [
  {
   "cell_type": "markdown",
   "id": "556bce9e-f718-401f-a3f2-3f9cf6fad8ca",
   "metadata": {},
   "source": [
    "# Logistic Regression From Scratch \n",
    "--- \n",
    "\n",
    "This is a full on implementation of the classification algorithm **Logistic Regression** from scratch using only **Numpy** and **Pandas** "
   ]
  }
 ],
 "metadata": {
  "kernelspec": {
   "display_name": "Python 3 (ipykernel)",
   "language": "python",
   "name": "python3"
  },
  "language_info": {
   "codemirror_mode": {
    "name": "ipython",
    "version": 3
   },
   "file_extension": ".py",
   "mimetype": "text/x-python",
   "name": "python",
   "nbconvert_exporter": "python",
   "pygments_lexer": "ipython3",
   "version": "3.12.3"
  }
 },
 "nbformat": 4,
 "nbformat_minor": 5
}
